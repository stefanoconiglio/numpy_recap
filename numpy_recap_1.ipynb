{
  "nbformat": 4,
  "nbformat_minor": 0,
  "metadata": {
    "colab": {
      "provenance": [],
      "toc_visible": true,
      "authorship_tag": "ABX9TyNg44KlSD9hyGQDd1/gfUk6",
      "include_colab_link": true
    },
    "kernelspec": {
      "name": "python3",
      "display_name": "Python 3"
    },
    "language_info": {
      "name": "python"
    }
  },
  "cells": [
    {
      "cell_type": "markdown",
      "metadata": {
        "id": "view-in-github",
        "colab_type": "text"
      },
      "source": [
        "<a href=\"https://colab.research.google.com/github/stefanoconiglio/numpy_recap/blob/main/numpy_recap_1.ipynb\" target=\"_parent\"><img src=\"https://colab.research.google.com/assets/colab-badge.svg\" alt=\"Open In Colab\"/></a>"
      ]
    },
    {
      "cell_type": "markdown",
      "source": [
        "# The quickest Numpy recap on Earth\n",
        "\n",
        "I'll try my best to make this as fast as possible. Some ideas came from here: http://chatgpt.com/c/68095add-712c-800c-bfe7-76f121bdc1d9\n",
        "No, you can't access it. You don't want to read my swearing to ChatGPT. Trust me.\n",
        "\n",
        "Rules: when the 1st line of a block does not have a comment, it's usually a boilerplate line where some variable is built for later use."
      ],
      "metadata": {
        "id": "qva8BZl94Kct"
      }
    },
    {
      "cell_type": "markdown",
      "source": [
        "## Preliminaries (not numpy related)\n",
        "This is just some inefficient madness to print the name of a variable long with its content. Don't use it in production. It's only for teaching purposes."
      ],
      "metadata": {
        "id": "R7Z9fMur4Rr-"
      }
    },
    {
      "cell_type": "code",
      "source": [
        "#VOODOO TO PRINT VAR NAME ALONG ITS CONTENT\n",
        "import inspect\n",
        "\n",
        "# def nprint(var):\n",
        "#   \"\"\"\n",
        "#   prints variable name along with its content\n",
        "#   \"\"\"\n",
        "#   frame = inspect.currentframe().f_back\n",
        "#   names = [name for name in frame.f_code.co_names if frame.f_locals.get(name) is var]\n",
        "#   name = names[0] if names else 'var'\n",
        "#   print(f\"{name}:\\n {var}\\n\"+\"-\"*80)\n",
        "\n",
        "import inspect\n",
        "import ast\n",
        "\n",
        "def nprint(var):\n",
        "    # Get the previous frame (caller)\n",
        "    frame = inspect.currentframe().f_back\n",
        "    # Get the line of code that called this function\n",
        "    try:\n",
        "        source_line = inspect.getframeinfo(frame).code_context[0]\n",
        "    except Exception:\n",
        "        source_line = None\n",
        "\n",
        "    # Try to parse the argument name (best effort!)\n",
        "    if source_line:\n",
        "        # Find the argument inside the parentheses\n",
        "        arg_text = source_line.split('nprint(', 1)[1].split(')', 1)[0]\n",
        "    else:\n",
        "        arg_text = 'var'\n",
        "    print(f\"{arg_text}:\\n {var}\\n\"+\"-\"*80)"
      ],
      "metadata": {
        "id": "XB2dQzHVydh9"
      },
      "execution_count": 1,
      "outputs": []
    },
    {
      "cell_type": "code",
      "source": [
        "# IMPORT THE OBVIOUS\n",
        "import numpy as np"
      ],
      "metadata": {
        "id": "KvTQTi_o2iRo"
      },
      "execution_count": 2,
      "outputs": []
    },
    {
      "cell_type": "markdown",
      "source": [
        "## Creation of 1D, 2D, and $k$-D arrays from Python lists and understanding their `shape`"
      ],
      "metadata": {
        "id": "s23leWHq4xkS"
      }
    },
    {
      "cell_type": "code",
      "source": [
        "# PYTHON LISTS\n",
        "\n",
        "# this is a list\n",
        "list_1d = [1,2,3,4,5,6,7,8,9]\n",
        "nprint(list_1d)\n",
        "\n",
        "# this is a list of lists\n",
        "list_2d = [[1,2,3,4],[5,6,7,8]]\n",
        "nprint(list_2d)\n",
        "\n",
        "list_3d = [[[1,2,3],[4,5,6]],[[7,8,9],[10,11,12]]]\n",
        "nprint(list_3d)"
      ],
      "metadata": {
        "colab": {
          "base_uri": "https://localhost:8080/"
        },
        "id": "4OLWBqoM6fn8",
        "outputId": "996cb7c0-784e-4aa0-f493-9dc432eae13d"
      },
      "execution_count": 3,
      "outputs": [
        {
          "output_type": "stream",
          "name": "stdout",
          "text": [
            "list_1d:\n",
            " [1, 2, 3, 4, 5, 6, 7, 8, 9]\n",
            "--------------------------------------------------------------------------------\n",
            "list_2d:\n",
            " [[1, 2, 3, 4], [5, 6, 7, 8]]\n",
            "--------------------------------------------------------------------------------\n",
            "list_3d:\n",
            " [[[1, 2, 3], [4, 5, 6]], [[7, 8, 9], [10, 11, 12]]]\n",
            "--------------------------------------------------------------------------------\n"
          ]
        }
      ]
    },
    {
      "cell_type": "code",
      "execution_count": 4,
      "metadata": {
        "colab": {
          "base_uri": "https://localhost:8080/"
        },
        "id": "0epzQHJgrF0z",
        "outputId": "1030f111-41d0-4cb0-9089-5f2d93cef7f4"
      },
      "outputs": [
        {
          "output_type": "stream",
          "name": "stdout",
          "text": [
            "a_1d_3x:\n",
            " [1 2 3]\n",
            "--------------------------------------------------------------------------------\n",
            "a_1d_3x.shape:\n",
            " (3,)\n",
            "--------------------------------------------------------------------------------\n",
            "a_2d_3x1:\n",
            " [[1 2 3]]\n",
            "--------------------------------------------------------------------------------\n",
            "a_2d_3x1.shape:\n",
            " (1, 3)\n",
            "--------------------------------------------------------------------------------\n",
            "a_2d_3x2:\n",
            " [[1 2 3]\n",
            " [4 5 6]]\n",
            "--------------------------------------------------------------------------------\n",
            "a_2d_3x2.shape:\n",
            " (2, 3)\n",
            "--------------------------------------------------------------------------------\n",
            "a_2d_1x3:\n",
            " [[1 2 3]]\n",
            "--------------------------------------------------------------------------------\n",
            "a_2d_1x3.shape:\n",
            " (1, 3)\n",
            "--------------------------------------------------------------------------------\n",
            "a_3d_3x2x4:\n",
            " [[[   1    2   12    0]\n",
            "  [   3    4   34    0]]\n",
            "\n",
            " [[   5    6   56    0]\n",
            "  [   7    8   78    0]]\n",
            "\n",
            " [[   9   10  910    0]\n",
            "  [  11   12 1112    0]]]\n",
            "--------------------------------------------------------------------------------\n",
            "a_3d_3x2x4.shape:\n",
            " (3, 2, 4)\n",
            "--------------------------------------------------------------------------------\n"
          ]
        }
      ],
      "source": [
        "# NP 1D ARRAYS VS 2D ARRAYS AND SHAPE\n",
        "# shape = size, one per dim; a dim is called an AXIS in Numpy\n",
        "# for a 3d array, axis0 = depth, axis1 = rows, axis2 = cols\n",
        "\n",
        "# 1d array (from list)\n",
        "a_1d_3x = np.array([1,2,3])\n",
        "nprint(a_1d_3x)\n",
        "\n",
        "# this returns (3,) -- see further why\n",
        "nprint(a_1d_3x.shape)\n",
        "\n",
        "# 2d array of size 3x1 (from list of a single list)\n",
        "a_2d_3x1 = np.array([[1,2,3]])\n",
        "nprint(a_2d_3x1)\n",
        "\n",
        "# this returns (3,) -- see further why\n",
        "nprint(a_2d_3x1.shape)\n",
        "\n",
        "# 2d array (created from list of lists)\n",
        "a_2d_3x2 = np.array([[1,2,3],[4,5,6]])\n",
        "nprint(a_2d_3x2)\n",
        "\n",
        "# this returns (3,2), as expected\n",
        "nprint(a_2d_3x2.shape)\n",
        "\n",
        "a_2d_1x3 = np.array([[1,2,3]])\n",
        "nprint(a_2d_1x3)\n",
        "\n",
        "# this returns (1,3), as expected\n",
        "nprint(a_2d_1x3.shape)\n",
        "\n",
        "# 3d array of size 3x2x4\n",
        "a_3d_3x2x4 = np.array([[[1,2,12,0],[3,4,34,0]],[[5,6,56,0],[7,8,78,0]],\n",
        "  [[9,10,910,0],[11,12,1112,0]]])\n",
        "nprint(a_3d_3x2x4)\n",
        "\n",
        "# depth 4, rows 2, cols 4\n",
        "nprint(a_3d_3x2x4.shape)"
      ]
    },
    {
      "cell_type": "code",
      "source": [
        "# DIGRESSION ON SINGLE-ELEMENT TUPLES\n",
        "\n",
        "#this is the way to define 1-tuples; if you do\n",
        "t = (3)\n",
        "nprint(type(t))\n",
        "#you only get an integer whereas with\n",
        "t = (3,)\n",
        "nprint(type(t))\n",
        "#you get a tuple"
      ],
      "metadata": {
        "colab": {
          "base_uri": "https://localhost:8080/"
        },
        "id": "B-H5IJko3GZX",
        "outputId": "6fc2ea23-af92-4fda-d653-917475d6240e"
      },
      "execution_count": 5,
      "outputs": [
        {
          "output_type": "stream",
          "name": "stdout",
          "text": [
            "type(t:\n",
            " <class 'int'>\n",
            "--------------------------------------------------------------------------------\n",
            "type(t:\n",
            " <class 'tuple'>\n",
            "--------------------------------------------------------------------------------\n"
          ]
        }
      ]
    },
    {
      "cell_type": "markdown",
      "source": [
        "## Array creation routines"
      ],
      "metadata": {
        "id": "gCQbZ-5k-1DS"
      }
    },
    {
      "cell_type": "code",
      "source": [
        "# ARANGE -- array of a range: INT sequences\n",
        "\n",
        "# from 0 to 20-1\n",
        "a = np.arange(20)\n",
        "nprint(a)\n",
        "\n",
        "# from 10 to 20-1 with a step of 2\n",
        "b = np.arange(10,20,2)\n",
        "nprint(b)\n",
        "\n",
        "# TODO:\n",
        "# - np.ogrid\n",
        "# - np.mgrid\n",
        "\n",
        "# USING LIST COMPREHENSION\n",
        "\n",
        "# 2d array of items from 10 to 20 with list comprehension\n",
        "d = np.array([[j for j in range(1,11)],[j for j in range(11,21)]])\n",
        "nprint(d)"
      ],
      "metadata": {
        "colab": {
          "base_uri": "https://localhost:8080/"
        },
        "id": "H2toAxjp6xrb",
        "outputId": "24c8b702-6759-4b61-c373-a086f11b9a75"
      },
      "execution_count": 6,
      "outputs": [
        {
          "output_type": "stream",
          "name": "stdout",
          "text": [
            "a:\n",
            " [ 0  1  2  3  4  5  6  7  8  9 10 11 12 13 14 15 16 17 18 19]\n",
            "--------------------------------------------------------------------------------\n",
            "b:\n",
            " [10 12 14 16 18]\n",
            "--------------------------------------------------------------------------------\n",
            "d:\n",
            " [[ 1  2  3  4  5  6  7  8  9 10]\n",
            " [11 12 13 14 15 16 17 18 19 20]]\n",
            "--------------------------------------------------------------------------------\n"
          ]
        }
      ]
    },
    {
      "cell_type": "code",
      "source": [
        "# LINSPACE: FP sequences\n",
        "\n",
        "init, end, qty = 20, 8, 10\n",
        "a_inc = np.linspace(init, end, qty)\n",
        "nprint(a_inc)\n",
        "\n",
        "init, end, qty = 8, 20, 10\n",
        "a_dec = np.linspace(init, end, qty)\n",
        "nprint(a_dec)"
      ],
      "metadata": {
        "colab": {
          "base_uri": "https://localhost:8080/"
        },
        "id": "2F28PhGV_Ejn",
        "outputId": "2ef2ca53-d4dc-4a78-d908-40cfd444c5fc"
      },
      "execution_count": 7,
      "outputs": [
        {
          "output_type": "stream",
          "name": "stdout",
          "text": [
            "a_inc:\n",
            " [20.         18.66666667 17.33333333 16.         14.66666667 13.33333333\n",
            " 12.         10.66666667  9.33333333  8.        ]\n",
            "--------------------------------------------------------------------------------\n",
            "a_dec:\n",
            " [ 8.          9.33333333 10.66666667 12.         13.33333333 14.66666667\n",
            " 16.         17.33333333 18.66666667 20.        ]\n",
            "--------------------------------------------------------------------------------\n"
          ]
        }
      ]
    },
    {
      "cell_type": "markdown",
      "source": [
        "## Some notable (math) matrices"
      ],
      "metadata": {
        "id": "rR8jdZf_ISO8"
      }
    },
    {
      "cell_type": "code",
      "source": [
        "# NOTABLE (NAMED) MATH MATRICES\n",
        "\n",
        "a = np.zeros((2,10))\n",
        "nprint(a)\n",
        "\n",
        "b = np.ones((2,3))\n",
        "nprint(b)\n",
        "\n",
        "c = np.eye(4)\n",
        "nprint(c)\n",
        "\n",
        "d = np.diag([1,2,3,4])\n",
        "nprint(d)\n",
        "\n",
        "e = np.vander(np.arange(5))\n",
        "nprint(e)\n",
        "\n",
        "f = np.random.rand(3,4)\n",
        "nprint(f)\n",
        "\n",
        "g = np.random.randn(3,4)\n",
        "nprint(g)"
      ],
      "metadata": {
        "colab": {
          "base_uri": "https://localhost:8080/"
        },
        "id": "BLzf4INj_eRu",
        "outputId": "b127ee63-1635-4506-cb5c-ede769c28781"
      },
      "execution_count": 8,
      "outputs": [
        {
          "output_type": "stream",
          "name": "stdout",
          "text": [
            "a:\n",
            " [[0. 0. 0. 0. 0. 0. 0. 0. 0. 0.]\n",
            " [0. 0. 0. 0. 0. 0. 0. 0. 0. 0.]]\n",
            "--------------------------------------------------------------------------------\n",
            "b:\n",
            " [[1. 1. 1.]\n",
            " [1. 1. 1.]]\n",
            "--------------------------------------------------------------------------------\n",
            "c:\n",
            " [[1. 0. 0. 0.]\n",
            " [0. 1. 0. 0.]\n",
            " [0. 0. 1. 0.]\n",
            " [0. 0. 0. 1.]]\n",
            "--------------------------------------------------------------------------------\n",
            "d:\n",
            " [[1 0 0 0]\n",
            " [0 2 0 0]\n",
            " [0 0 3 0]\n",
            " [0 0 0 4]]\n",
            "--------------------------------------------------------------------------------\n",
            "e:\n",
            " [[  0   0   0   0   1]\n",
            " [  1   1   1   1   1]\n",
            " [ 16   8   4   2   1]\n",
            " [ 81  27   9   3   1]\n",
            " [256  64  16   4   1]]\n",
            "--------------------------------------------------------------------------------\n",
            "f:\n",
            " [[0.07379963 0.7211526  0.71604837 0.81232281]\n",
            " [0.33319667 0.55699033 0.74978068 0.22711823]\n",
            " [0.60119403 0.02382355 0.21051746 0.1122486 ]]\n",
            "--------------------------------------------------------------------------------\n",
            "g:\n",
            " [[ 0.98437027  1.06466493 -0.92069057 -1.59927784]\n",
            " [ 0.88853309 -0.00899638  1.06266375 -0.31658547]\n",
            " [ 0.38098724 -2.39309849  0.18295934 -1.61481466]]\n",
            "--------------------------------------------------------------------------------\n"
          ]
        }
      ]
    },
    {
      "cell_type": "markdown",
      "source": [
        "## Reshape"
      ],
      "metadata": {
        "id": "kNzhjT1ID0Ap"
      }
    },
    {
      "cell_type": "code",
      "source": [
        "# RESHAPE\n",
        "\n",
        "d = np.arange(20)\n",
        "nprint(d)\n",
        "\n",
        "# from 20x1 to 5x4\n",
        "d_2 = d.reshape(5,4)\n",
        "nprint(d_2)\n",
        "\n",
        "# from 20x1 to 2x? (? is autocomputed)\n",
        "d_3 = d.reshape(2,-1)\n",
        "nprint(d_3)\n",
        "\n",
        "# a fail case (3 doesn't divide 20)\n",
        "d_3 = d.reshape(3,-1)\n",
        "nprint(d_3)\n"
      ],
      "metadata": {
        "colab": {
          "base_uri": "https://localhost:8080/",
          "height": 436
        },
        "id": "8oJKRY8SDjVQ",
        "outputId": "c44f1d80-c3ec-42da-cefb-651af8c12b02"
      },
      "execution_count": 9,
      "outputs": [
        {
          "output_type": "stream",
          "name": "stdout",
          "text": [
            "d:\n",
            " [ 0  1  2  3  4  5  6  7  8  9 10 11 12 13 14 15 16 17 18 19]\n",
            "--------------------------------------------------------------------------------\n",
            "d_2:\n",
            " [[ 0  1  2  3]\n",
            " [ 4  5  6  7]\n",
            " [ 8  9 10 11]\n",
            " [12 13 14 15]\n",
            " [16 17 18 19]]\n",
            "--------------------------------------------------------------------------------\n",
            "d_3:\n",
            " [[ 0  1  2  3  4  5  6  7  8  9]\n",
            " [10 11 12 13 14 15 16 17 18 19]]\n",
            "--------------------------------------------------------------------------------\n"
          ]
        },
        {
          "output_type": "error",
          "ename": "ValueError",
          "evalue": "cannot reshape array of size 20 into shape (3,newaxis)",
          "traceback": [
            "\u001b[0;31m---------------------------------------------------------------------------\u001b[0m",
            "\u001b[0;31mValueError\u001b[0m                                Traceback (most recent call last)",
            "\u001b[0;32m<ipython-input-9-831f21dfac07>\u001b[0m in \u001b[0;36m<cell line: 0>\u001b[0;34m()\u001b[0m\n\u001b[1;32m     13\u001b[0m \u001b[0;34m\u001b[0m\u001b[0m\n\u001b[1;32m     14\u001b[0m \u001b[0;31m# a fail case (3 doesn't divide 20)\u001b[0m\u001b[0;34m\u001b[0m\u001b[0;34m\u001b[0m\u001b[0m\n\u001b[0;32m---> 15\u001b[0;31m \u001b[0md_3\u001b[0m \u001b[0;34m=\u001b[0m \u001b[0md\u001b[0m\u001b[0;34m.\u001b[0m\u001b[0mreshape\u001b[0m\u001b[0;34m(\u001b[0m\u001b[0;36m3\u001b[0m\u001b[0;34m,\u001b[0m\u001b[0;34m-\u001b[0m\u001b[0;36m1\u001b[0m\u001b[0;34m)\u001b[0m\u001b[0;34m\u001b[0m\u001b[0;34m\u001b[0m\u001b[0m\n\u001b[0m\u001b[1;32m     16\u001b[0m \u001b[0mnprint\u001b[0m\u001b[0;34m(\u001b[0m\u001b[0md_3\u001b[0m\u001b[0;34m)\u001b[0m\u001b[0;34m\u001b[0m\u001b[0;34m\u001b[0m\u001b[0m\n",
            "\u001b[0;31mValueError\u001b[0m: cannot reshape array of size 20 into shape (3,newaxis)"
          ]
        }
      ]
    },
    {
      "cell_type": "markdown",
      "source": [
        "## Indexing"
      ],
      "metadata": {
        "id": "sK2x3tYj82ef"
      }
    },
    {
      "cell_type": "code",
      "source": [
        "# SINGLE-ITEM INDEXING\n",
        "\n",
        "a = np.array([[1,2,3],[4,5,6]])\n",
        "\n",
        "nprint(a)\n",
        "nprint(a[1][1]) # C-style list-of-list indexing\n",
        "nprint(a[1,1])  # indexing-via-an-array"
      ],
      "metadata": {
        "colab": {
          "base_uri": "https://localhost:8080/"
        },
        "id": "5CQzMYrztHS8",
        "outputId": "885bcc08-8923-4f08-b310-ccb896c71356"
      },
      "execution_count": 10,
      "outputs": [
        {
          "output_type": "stream",
          "name": "stdout",
          "text": [
            "a:\n",
            " [[1 2 3]\n",
            " [4 5 6]]\n",
            "--------------------------------------------------------------------------------\n",
            "a[1][1]:\n",
            " 5\n",
            "--------------------------------------------------------------------------------\n",
            "a[1,1]:\n",
            " 5\n",
            "--------------------------------------------------------------------------------\n"
          ]
        }
      ]
    },
    {
      "cell_type": "code",
      "source": [
        "# FANCY INDEXING IN THE 1D CASE: index with an array of the indices you want\n",
        "\n",
        "c = np.array(['a','b','c','d','e','f','g','h','i','l'])\n",
        "nprint(c)\n",
        "\n",
        "# recover items at position 1,5,9\n",
        "c_1 = c[[1,5,9]]\n",
        "nprint(c_1)\n",
        "\n",
        "# this fancy indexes in c with the list of even indexes numbers\n",
        "# using list comprehension\n",
        "c_2 = c[[j for j in range(len(c)) if j % 2 == 0]]\n",
        "nprint(c_2)\n"
      ],
      "metadata": {
        "colab": {
          "base_uri": "https://localhost:8080/"
        },
        "id": "b_dNSlBP3LuM",
        "outputId": "ec90a5a9-94a1-4170-eee9-1ab8386e1d73"
      },
      "execution_count": 11,
      "outputs": [
        {
          "output_type": "stream",
          "name": "stdout",
          "text": [
            "c:\n",
            " ['a' 'b' 'c' 'd' 'e' 'f' 'g' 'h' 'i' 'l']\n",
            "--------------------------------------------------------------------------------\n",
            "c_1:\n",
            " ['b' 'f' 'l']\n",
            "--------------------------------------------------------------------------------\n",
            "c_2:\n",
            " ['a' 'c' 'e' 'g' 'i']\n",
            "--------------------------------------------------------------------------------\n"
          ]
        }
      ]
    },
    {
      "cell_type": "code",
      "source": [
        "# FANCY INDEXING IN THE 2D CASE: index with two same-size arrays, one of row\n",
        "# indices, one of col indices: (A[[1,2],[3,4]] gives A[1,3] and A[2,4])\n",
        "\n",
        "d = np.arange(20).reshape(5,4)\n",
        "nprint(d)\n",
        "\n",
        "# return items [0,2],[1,3],[2,1]\n",
        "d_1 = d[[0,1,2],[2,3,1]]\n",
        "nprint(d_1)\n",
        "\n",
        "# here the single col index 2 is broacast to every col\n",
        "d_2 = d[[0,1,2],[2,]]\n",
        "nprint(d_2)"
      ],
      "metadata": {
        "colab": {
          "base_uri": "https://localhost:8080/"
        },
        "id": "EtajBfQhucxV",
        "outputId": "044e87b7-b029-4b80-822f-520a02c1611b"
      },
      "execution_count": 12,
      "outputs": [
        {
          "output_type": "stream",
          "name": "stdout",
          "text": [
            "d:\n",
            " [[ 0  1  2  3]\n",
            " [ 4  5  6  7]\n",
            " [ 8  9 10 11]\n",
            " [12 13 14 15]\n",
            " [16 17 18 19]]\n",
            "--------------------------------------------------------------------------------\n",
            "d_1:\n",
            " [2 7 9]\n",
            "--------------------------------------------------------------------------------\n",
            "d_2:\n",
            " [ 2  6 10]\n",
            "--------------------------------------------------------------------------------\n"
          ]
        }
      ]
    },
    {
      "cell_type": "code",
      "source": [
        "# SLICING: INDEX-CONTIGUOUS SUBMATRICES\n",
        "\n",
        "# SLICING INDEXING: 1D\n",
        "\n",
        "a = np.arange(20,40,2)\n",
        "nprint(a)\n",
        "\n",
        "# items from 2 to 5-1\n",
        "a_slice = a[2:5]\n",
        "nprint(a_slice)\n",
        "\n",
        "# SLICING INDEXING: 2D\n",
        "\n",
        "b = np.arange(10,40).reshape(6,-1)\n",
        "nprint(b)\n",
        "\n",
        "# rows 2 to 5\n",
        "b_row_slice = b[2:5]\n",
        "nprint(b_row_slice)\n",
        "\n",
        "# cols 1 to 3-1\n",
        "b_col_slice = b[:,1:3]\n",
        "nprint(b_col_slice)\n",
        "\n",
        "# rows 2 to 5-1 and cols 1 to 3-1\n",
        "b_row_col_slice = b[2:5,1:3]\n",
        "nprint(b_row_col_slice)\n",
        "\n",
        "# SLICE INDEXING: 3D\n",
        "\n",
        "c = np.arange(0,180).reshape(5,4,-1)\n",
        "nprint(c)\n",
        "\n",
        "# depth 1 to 3-1, rows 1 to 4-1, cols 1 to 3-1\n",
        "c_depth_row_col_slice = c[1:3,1:4,1:3]\n",
        "nprint(c_depth_row_col_slice)"
      ],
      "metadata": {
        "colab": {
          "base_uri": "https://localhost:8080/"
        },
        "id": "Gu-MfGRz4C5D",
        "outputId": "ddbfe2cd-12cf-4c25-a5aa-8e20b937f2eb"
      },
      "execution_count": 13,
      "outputs": [
        {
          "output_type": "stream",
          "name": "stdout",
          "text": [
            "a:\n",
            " [20 22 24 26 28 30 32 34 36 38]\n",
            "--------------------------------------------------------------------------------\n",
            "a_slice:\n",
            " [24 26 28]\n",
            "--------------------------------------------------------------------------------\n",
            "b:\n",
            " [[10 11 12 13 14]\n",
            " [15 16 17 18 19]\n",
            " [20 21 22 23 24]\n",
            " [25 26 27 28 29]\n",
            " [30 31 32 33 34]\n",
            " [35 36 37 38 39]]\n",
            "--------------------------------------------------------------------------------\n",
            "b_row_slice:\n",
            " [[20 21 22 23 24]\n",
            " [25 26 27 28 29]\n",
            " [30 31 32 33 34]]\n",
            "--------------------------------------------------------------------------------\n",
            "b_col_slice:\n",
            " [[11 12]\n",
            " [16 17]\n",
            " [21 22]\n",
            " [26 27]\n",
            " [31 32]\n",
            " [36 37]]\n",
            "--------------------------------------------------------------------------------\n",
            "b_row_col_slice:\n",
            " [[21 22]\n",
            " [26 27]\n",
            " [31 32]]\n",
            "--------------------------------------------------------------------------------\n",
            "c:\n",
            " [[[  0   1   2   3   4   5   6   7   8]\n",
            "  [  9  10  11  12  13  14  15  16  17]\n",
            "  [ 18  19  20  21  22  23  24  25  26]\n",
            "  [ 27  28  29  30  31  32  33  34  35]]\n",
            "\n",
            " [[ 36  37  38  39  40  41  42  43  44]\n",
            "  [ 45  46  47  48  49  50  51  52  53]\n",
            "  [ 54  55  56  57  58  59  60  61  62]\n",
            "  [ 63  64  65  66  67  68  69  70  71]]\n",
            "\n",
            " [[ 72  73  74  75  76  77  78  79  80]\n",
            "  [ 81  82  83  84  85  86  87  88  89]\n",
            "  [ 90  91  92  93  94  95  96  97  98]\n",
            "  [ 99 100 101 102 103 104 105 106 107]]\n",
            "\n",
            " [[108 109 110 111 112 113 114 115 116]\n",
            "  [117 118 119 120 121 122 123 124 125]\n",
            "  [126 127 128 129 130 131 132 133 134]\n",
            "  [135 136 137 138 139 140 141 142 143]]\n",
            "\n",
            " [[144 145 146 147 148 149 150 151 152]\n",
            "  [153 154 155 156 157 158 159 160 161]\n",
            "  [162 163 164 165 166 167 168 169 170]\n",
            "  [171 172 173 174 175 176 177 178 179]]]\n",
            "--------------------------------------------------------------------------------\n",
            "c_depth_row_col_slice:\n",
            " [[[ 46  47]\n",
            "  [ 55  56]\n",
            "  [ 64  65]]\n",
            "\n",
            " [[ 82  83]\n",
            "  [ 91  92]\n",
            "  [100 101]]]\n",
            "--------------------------------------------------------------------------------\n"
          ]
        }
      ]
    },
    {
      "cell_type": "code",
      "source": [
        "# SUBMATRIX INDEXING WITH IX_\n",
        "\n",
        "a = np.arange(20).reshape(5,-1)\n",
        "nprint(a)\n",
        "\n",
        "# rows 0,1,2; cols 1,3\n",
        "a_sub = a[np.ix_([0,1,2],[1,3])]\n",
        "nprint(a_sub)\n",
        "\n",
        "# rows 0,1; cols 1,3\n",
        "a_sub_square = a[np.ix_([0,1,2],[0,1,3])]\n",
        "nprint(a_sub_square)\n",
        "\n",
        "# notice diff with similar indexing using fancy indexing\n",
        "a_fancy = a[[0,1,2],[0,1,3]]\n",
        "nprint(a_fancy)"
      ],
      "metadata": {
        "colab": {
          "base_uri": "https://localhost:8080/"
        },
        "id": "7q9StLU5Dfhw",
        "outputId": "7a1a72b5-a1fa-4111-f93f-e671487b6299"
      },
      "execution_count": 14,
      "outputs": [
        {
          "output_type": "stream",
          "name": "stdout",
          "text": [
            "a:\n",
            " [[ 0  1  2  3]\n",
            " [ 4  5  6  7]\n",
            " [ 8  9 10 11]\n",
            " [12 13 14 15]\n",
            " [16 17 18 19]]\n",
            "--------------------------------------------------------------------------------\n",
            "a_sub:\n",
            " [[ 1  3]\n",
            " [ 5  7]\n",
            " [ 9 11]]\n",
            "--------------------------------------------------------------------------------\n",
            "a_sub_square:\n",
            " [[ 0  1  3]\n",
            " [ 4  5  7]\n",
            " [ 8  9 11]]\n",
            "--------------------------------------------------------------------------------\n",
            "a_fancy:\n",
            " [ 0  5 11]\n",
            "--------------------------------------------------------------------------------\n"
          ]
        }
      ]
    },
    {
      "cell_type": "code",
      "source": [
        "# FANCY INDEXING VS ix_\n",
        "# - Fancy indexing pairs one-to-one rows and col idx\n",
        "# - ix_ creates all pairs\n",
        "\n",
        "a = np.arange(20).reshape(5,-1)\n",
        "nprint(a)\n",
        "\n",
        "# fancy indexing\n",
        "a_2 = a[[0,1,3],[1,2,3]]\n",
        "nprint(a_2)\n",
        "\n",
        "# ix_\n",
        "a_3 = a[np.ix_([0,1,3],[1,2,3])]\n",
        "nprint(a_3)"
      ],
      "metadata": {
        "colab": {
          "base_uri": "https://localhost:8080/"
        },
        "id": "qE8FvV-TMfPS",
        "outputId": "b9dc3159-25c3-4a03-9427-17f06f2e9e3d"
      },
      "execution_count": 16,
      "outputs": [
        {
          "output_type": "stream",
          "name": "stdout",
          "text": [
            "a:\n",
            " [[ 0  1  2  3]\n",
            " [ 4  5  6  7]\n",
            " [ 8  9 10 11]\n",
            " [12 13 14 15]\n",
            " [16 17 18 19]]\n",
            "--------------------------------------------------------------------------------\n",
            "a_2:\n",
            " [ 1  6 15]\n",
            "--------------------------------------------------------------------------------\n",
            "a_3:\n",
            " [[ 1  2  3]\n",
            " [ 5  6  7]\n",
            " [13 14 15]]\n",
            "--------------------------------------------------------------------------------\n"
          ]
        }
      ]
    },
    {
      "cell_type": "code",
      "source": [
        "# SUBMATRIX WITH SLICING AND FANCY INDEXING\n",
        "\n",
        "a = np.arange(20).reshape(5,-1)\n",
        "nprint(a)\n",
        "\n",
        "# rows 2 and 3, all cols\n",
        "a_sub = a[[2,3], :]\n",
        "nprint(a_sub)\n",
        "\n",
        "# same\n",
        "a_sub2 = a[[2,3]]\n",
        "nprint(a_sub2)\n",
        "\n",
        "# all rows, cols 1 and 2\n",
        "a_sub3 = a[:, [1,2]]\n",
        "nprint(a_sub3)"
      ],
      "metadata": {
        "colab": {
          "base_uri": "https://localhost:8080/"
        },
        "id": "4-vao0MBLYka",
        "outputId": "685818b9-0af0-4ef0-a159-1b6c3c217a67"
      },
      "execution_count": 15,
      "outputs": [
        {
          "output_type": "stream",
          "name": "stdout",
          "text": [
            "a:\n",
            " [[ 0  1  2  3]\n",
            " [ 4  5  6  7]\n",
            " [ 8  9 10 11]\n",
            " [12 13 14 15]\n",
            " [16 17 18 19]]\n",
            "--------------------------------------------------------------------------------\n",
            "a_sub:\n",
            " [[ 8  9 10 11]\n",
            " [12 13 14 15]]\n",
            "--------------------------------------------------------------------------------\n",
            "a_sub2:\n",
            " [[ 8  9 10 11]\n",
            " [12 13 14 15]]\n",
            "--------------------------------------------------------------------------------\n",
            "a_sub3:\n",
            " [[ 1  2]\n",
            " [ 5  6]\n",
            " [ 9 10]\n",
            " [13 14]\n",
            " [17 18]]\n",
            "--------------------------------------------------------------------------------\n"
          ]
        }
      ]
    },
    {
      "cell_type": "code",
      "source": [
        "# BOOLEAN MASKING\n",
        "\n",
        "e = np.array([j for j in range(0,11)])\n",
        "\n",
        "# mask of even indices\n",
        "mask = e % 2 == 0\n",
        "nprint(mask)\n",
        "\n",
        "e_1 = e[mask]\n",
        "nprint(e_1)"
      ],
      "metadata": {
        "colab": {
          "base_uri": "https://localhost:8080/"
        },
        "id": "uh6bSYFPyLh_",
        "outputId": "e9e6c53a-207e-4ced-a2dd-7b789032d3b4"
      },
      "execution_count": 17,
      "outputs": [
        {
          "output_type": "stream",
          "name": "stdout",
          "text": [
            "mask:\n",
            " [ True False  True False  True False  True False  True False  True]\n",
            "--------------------------------------------------------------------------------\n",
            "e_1:\n",
            " [ 0  2  4  6  8 10]\n",
            "--------------------------------------------------------------------------------\n"
          ]
        }
      ]
    },
    {
      "cell_type": "markdown",
      "source": [
        "## Axis expansion"
      ],
      "metadata": {
        "id": "viLochQATU77"
      }
    },
    {
      "cell_type": "code",
      "source": [
        "# ADD EXTRA DIMS (AXIS) TO AN ARRAY\n",
        "\n",
        "a = np.arange(20).reshape(5,-1)\n",
        "nprint(a)\n",
        "nprint(a.shape)\n",
        "\n",
        "# add new 0th axis\n",
        "a_exp = a[None,:]\n",
        "nprint(a_exp)\n",
        "nprint(a_exp.shape)\n",
        "\n",
        "# add new 1st axis\n",
        "a_exp2 = a[:,None]\n",
        "nprint(a_exp2)\n",
        "nprint(a_exp2.shape)\n",
        "\n",
        "# add new 2nd axis\n",
        "a_exp3 = a[:,:,None]\n",
        "nprint(a_exp3)\n",
        "nprint(a_exp3.shape)"
      ],
      "metadata": {
        "colab": {
          "base_uri": "https://localhost:8080/"
        },
        "id": "EKxZeb-eTV3Y",
        "outputId": "427ea7f3-c659-42cb-f987-faa2bd7b9d41"
      },
      "execution_count": 18,
      "outputs": [
        {
          "output_type": "stream",
          "name": "stdout",
          "text": [
            "a:\n",
            " [[ 0  1  2  3]\n",
            " [ 4  5  6  7]\n",
            " [ 8  9 10 11]\n",
            " [12 13 14 15]\n",
            " [16 17 18 19]]\n",
            "--------------------------------------------------------------------------------\n",
            "a.shape:\n",
            " (5, 4)\n",
            "--------------------------------------------------------------------------------\n",
            "a_exp:\n",
            " [[[ 0  1  2  3]\n",
            "  [ 4  5  6  7]\n",
            "  [ 8  9 10 11]\n",
            "  [12 13 14 15]\n",
            "  [16 17 18 19]]]\n",
            "--------------------------------------------------------------------------------\n",
            "a_exp.shape:\n",
            " (1, 5, 4)\n",
            "--------------------------------------------------------------------------------\n",
            "a_exp2:\n",
            " [[[ 0  1  2  3]]\n",
            "\n",
            " [[ 4  5  6  7]]\n",
            "\n",
            " [[ 8  9 10 11]]\n",
            "\n",
            " [[12 13 14 15]]\n",
            "\n",
            " [[16 17 18 19]]]\n",
            "--------------------------------------------------------------------------------\n",
            "a_exp2.shape:\n",
            " (5, 1, 4)\n",
            "--------------------------------------------------------------------------------\n",
            "a_exp3:\n",
            " [[[ 0]\n",
            "  [ 1]\n",
            "  [ 2]\n",
            "  [ 3]]\n",
            "\n",
            " [[ 4]\n",
            "  [ 5]\n",
            "  [ 6]\n",
            "  [ 7]]\n",
            "\n",
            " [[ 8]\n",
            "  [ 9]\n",
            "  [10]\n",
            "  [11]]\n",
            "\n",
            " [[12]\n",
            "  [13]\n",
            "  [14]\n",
            "  [15]]\n",
            "\n",
            " [[16]\n",
            "  [17]\n",
            "  [18]\n",
            "  [19]]]\n",
            "--------------------------------------------------------------------------------\n",
            "a_exp3.shape:\n",
            " (5, 4, 1)\n",
            "--------------------------------------------------------------------------------\n"
          ]
        }
      ]
    },
    {
      "cell_type": "markdown",
      "source": [
        "## Transposition"
      ],
      "metadata": {
        "id": "Asove7XWRjmN"
      }
    },
    {
      "cell_type": "code",
      "source": [
        "# with .T\n",
        "\n",
        "# does nothing to (n,) arrays\n",
        "a_n_ = np.arange(10)\n",
        "nprint(a_n_)\n",
        "\n",
        "# see?\n",
        "a_n_T = a_n_.T\n",
        "nprint(a_n_T)\n",
        "\n",
        "# works on (n,1) arrays\n",
        "a_n_1 = np.arange(10).reshape(10,-1)\n",
        "nprint(a_n_1)\n",
        "\n",
        "# see?\n",
        "a_n_1_T = a_n_1.T\n",
        "nprint(a_n_1_T)"
      ],
      "metadata": {
        "id": "kcd6La3rRlMc"
      },
      "execution_count": null,
      "outputs": []
    },
    {
      "cell_type": "code",
      "source": [
        "# with axis expansion (cheating)\n",
        "\n",
        "a = np.arange(20)\n",
        "nprint(a)\n",
        "nprint(a.shape)\n",
        "\n",
        "a_T = a[:,None]\n",
        "nprint(a_T)\n",
        "\n",
        "x = np.arange(3)    # shape (3,)\n",
        "nprint(x)\n",
        "y = np.arange(2)    # shape (2,)\n",
        "nprint(y)\n",
        "\n",
        "z = x[None, :] + y[:, None]   # shape (2,3)\n",
        "nprint(z)\n",
        "\n",
        "xx = x[None, :]\n",
        "nprint(xx)\n",
        "yy = y[:, None]\n",
        "nprint(yy)"
      ],
      "metadata": {
        "id": "9kcDrfL4SZgc"
      },
      "execution_count": null,
      "outputs": []
    },
    {
      "cell_type": "markdown",
      "source": [
        "## Broadcasting"
      ],
      "metadata": {
        "id": "yYylUXcxvfWF"
      }
    },
    {
      "cell_type": "code",
      "source": [
        "# BROADCASTING = AUTO SHAPE EXPANSION OF A SMALL MATRIX OPERATED WITH A BIG ONE\n",
        "\n",
        "a = np.arange(20).reshape(5,-1)\n",
        "nprint(a)\n",
        "\n",
        "# SCALAR BROADCAST\n",
        "\n",
        "a_2 = a + 10\n",
        "nprint(a_2)\n",
        "\n",
        "a_3 = a * 10\n",
        "nprint(a_3)\n",
        "\n",
        "# (n,) TO (n,1) BROADCAST\n",
        "\n",
        "a_1d = np.arange(20)\n",
        "nprint(a_1d)\n",
        "nprint(a_1d.shape)\n",
        "\n",
        "a_2d = np.arange(20,40).reshape(1,-1)\n",
        "nprint(a_2d)\n",
        "nprint(a_2d.shape)\n",
        "\n",
        "# here is the sum\n",
        "a_sum_vec = a_1d + a_2d\n",
        "nprint(a_sum_vec)\n",
        "\n",
        "# (n,1) to (1,m) BROADCAST\n",
        "\n",
        "a_n_1 = np.arange(3).reshape(3,-1)\n",
        "nprint(a_n_1)\n",
        "\n",
        "a_1_n = np.arange(5,10).reshape(1,-1)\n",
        "nprint(a_1_n)\n",
        "\n",
        "# sum row by row with row of a_n_1 (scalar) broadcast\n",
        "a_sum_matr = a_1_n + a_n_1\n",
        "nprint(a_sum_matr)"
      ],
      "metadata": {
        "id": "mcuDIKy-s9vY"
      },
      "execution_count": null,
      "outputs": []
    }
  ]
}