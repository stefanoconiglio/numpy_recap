{
  "nbformat": 4,
  "nbformat_minor": 0,
  "metadata": {
    "colab": {
      "provenance": [],
      "toc_visible": true,
      "authorship_tag": "ABX9TyPA654FOUaMvAitxar+RmhC",
      "include_colab_link": true
    },
    "kernelspec": {
      "name": "python3",
      "display_name": "Python 3"
    },
    "language_info": {
      "name": "python"
    }
  },
  "cells": [
    {
      "cell_type": "markdown",
      "metadata": {
        "id": "view-in-github",
        "colab_type": "text"
      },
      "source": [
        "<a href=\"https://colab.research.google.com/github/stefanoconiglio/numpy_recap/blob/main/numpy_recap_1.ipynb\" target=\"_parent\"><img src=\"https://colab.research.google.com/assets/colab-badge.svg\" alt=\"Open In Colab\"/></a>"
      ]
    },
    {
      "cell_type": "markdown",
      "source": [
        "# The quickest Numpy recap on Earth\n",
        "\n",
        "I'll try my best to make this as fast as possible. Some ideas came from here: http://chatgpt.com/c/68095add-712c-800c-bfe7-76f121bdc1d9\n",
        "No, you can't access it. You don't want to read my swearing to ChatGPT. Trust me.\n",
        "\n",
        "Rules: when the 1st line of a block does not have a comment, it's usually a boilerplate line where some variable is built for later use."
      ],
      "metadata": {
        "id": "qva8BZl94Kct"
      }
    },
    {
      "cell_type": "markdown",
      "source": [
        "## Preliminaries (not numpy related)\n",
        "This is just some inefficient madness to print the name of a variable long with its content. Don't use it in production. It's only for teaching purposes."
      ],
      "metadata": {
        "id": "R7Z9fMur4Rr-"
      }
    },
    {
      "cell_type": "code",
      "source": [
        "#VOODOO TO PRINT VAR NAME ALONG ITS CONTENT\n",
        "import inspect\n",
        "\n",
        "def nprint(var):\n",
        "  \"\"\"\n",
        "  prints variable name along with its content\n",
        "  \"\"\"\n",
        "  frame = inspect.currentframe().f_back\n",
        "  names = [name for name in frame.f_code.co_names if frame.f_locals.get(name) is var]\n",
        "  name = names[0] if names else 'var'\n",
        "  print(f\"{name}:\\n {var}\\n\"+\"-\"*80)"
      ],
      "metadata": {
        "id": "XB2dQzHVydh9"
      },
      "execution_count": 145,
      "outputs": []
    },
    {
      "cell_type": "markdown",
      "source": [
        "## Part 1: the basics (1/2D arrays, indexing, broadcasting)"
      ],
      "metadata": {
        "id": "s23leWHq4xkS"
      }
    },
    {
      "cell_type": "code",
      "source": [
        "# IMPORT THE OBVIOUS\n",
        "import numpy as np"
      ],
      "metadata": {
        "id": "KvTQTi_o2iRo"
      },
      "execution_count": 146,
      "outputs": []
    },
    {
      "cell_type": "code",
      "source": [
        "# PYTHON LISTS\n",
        "\n",
        "# this is a list\n",
        "list_1d = [1,2,3,4,5,6,7,8,9]\n",
        "nprint(list_1d)\n",
        "\n",
        "# this is a list of lists\n",
        "list_2d = [[1,2,3,4],[5,6,7,8]]\n",
        "nprint(list_2d)"
      ],
      "metadata": {
        "colab": {
          "base_uri": "https://localhost:8080/"
        },
        "id": "4OLWBqoM6fn8",
        "outputId": "8328fa48-298d-4f1e-f429-924c51ea0c2a"
      },
      "execution_count": 147,
      "outputs": [
        {
          "output_type": "stream",
          "name": "stdout",
          "text": [
            "list_1d:\n",
            " [1, 2, 3, 4, 5, 6, 7, 8, 9]\n",
            "--------------------------------------------------------------------------------\n",
            "list_2d:\n",
            " [[1, 2, 3, 4], [5, 6, 7, 8]]\n",
            "--------------------------------------------------------------------------------\n"
          ]
        }
      ]
    },
    {
      "cell_type": "code",
      "source": [
        "# ARANGE -- array of a range\n",
        "\n",
        "# from 0 to 20-1\n",
        "a = np.arange(20)\n",
        "nprint(a)\n",
        "\n",
        "# from 10 to 20-1 with a step of 2\n",
        "b = np.arange(10,20,2)\n",
        "nprint(b)"
      ],
      "metadata": {
        "colab": {
          "base_uri": "https://localhost:8080/"
        },
        "id": "H2toAxjp6xrb",
        "outputId": "d2c35a0a-3cb3-4f75-a755-2b0aef4b6a5f"
      },
      "execution_count": 148,
      "outputs": [
        {
          "output_type": "stream",
          "name": "stdout",
          "text": [
            "a:\n",
            " [ 0  1  2  3  4  5  6  7  8  9 10 11 12 13 14 15 16 17 18 19]\n",
            "--------------------------------------------------------------------------------\n",
            "b:\n",
            " [10 12 14 16 18]\n",
            "--------------------------------------------------------------------------------\n"
          ]
        }
      ]
    },
    {
      "cell_type": "code",
      "execution_count": 149,
      "metadata": {
        "colab": {
          "base_uri": "https://localhost:8080/"
        },
        "id": "0epzQHJgrF0z",
        "outputId": "1904da44-1269-433a-e968-458f8ebb905d"
      },
      "outputs": [
        {
          "output_type": "stream",
          "name": "stdout",
          "text": [
            "a:\n",
            " [1 2 3]\n",
            "--------------------------------------------------------------------------------\n",
            "b:\n",
            " [[1 2 3]\n",
            " [4 5 6]]\n",
            "--------------------------------------------------------------------------------\n",
            "a2:\n",
            " [[1 2 3]]\n",
            "--------------------------------------------------------------------------------\n"
          ]
        }
      ],
      "source": [
        "# 1D ARRAY VS 2D ARRAY\n",
        "\n",
        "# 1d array (rated from list)\n",
        "a = np.array([1,2,3])\n",
        "nprint(a)\n",
        "\n",
        "# 2d array (created from list of lists)\n",
        "b = np.array([[1,2,3],[4,5,6]])\n",
        "nprint(b)\n",
        "\n",
        "a2 = np.array([[1,2,3]])\n",
        "nprint(a2)"
      ]
    },
    {
      "cell_type": "code",
      "source": [
        "#SHAPE (= size, one per dim)\n",
        "\n",
        "# shape of b: as expected: b is 2x3\n",
        "nprint(b.shape)\n",
        "\n",
        "# shape of a: odd: (3,) -- a tuple of a single element\n",
        "nprint(a.shape)\n",
        "\n",
        "# shape of a2: a2 is a 2d array even if the 1st dimension is 1\n",
        "nprint(a2.shape)"
      ],
      "metadata": {
        "colab": {
          "base_uri": "https://localhost:8080/"
        },
        "id": "Cn8THGcVr177",
        "outputId": "bf9abfd8-2f2a-44fd-82c8-fb9c601889b7"
      },
      "execution_count": 156,
      "outputs": [
        {
          "output_type": "stream",
          "name": "stdout",
          "text": [
            "var:\n",
            " (2, 3)\n",
            "--------------------------------------------------------------------------------\n",
            "var:\n",
            " (3,)\n",
            "--------------------------------------------------------------------------------\n",
            "var:\n",
            " (1, 3)\n",
            "--------------------------------------------------------------------------------\n"
          ]
        }
      ]
    },
    {
      "cell_type": "code",
      "source": [
        "# DIGRESSION ON SINGLE-ELEMENT TUPLES\n",
        "\n",
        "#this is the way to define 1-tuples; if you do\n",
        "t = (3)\n",
        "nprint(type(t))\n",
        "#you only get an integer whereas with\n",
        "t = (3,)\n",
        "nprint(type(t))\n",
        "#you get a tuple"
      ],
      "metadata": {
        "colab": {
          "base_uri": "https://localhost:8080/"
        },
        "id": "B-H5IJko3GZX",
        "outputId": "0217cf45-c13e-4244-a1a9-c7b5eac8a11e"
      },
      "execution_count": 157,
      "outputs": [
        {
          "output_type": "stream",
          "name": "stdout",
          "text": [
            "var:\n",
            " <class 'int'>\n",
            "--------------------------------------------------------------------------------\n",
            "var:\n",
            " <class 'tuple'>\n",
            "--------------------------------------------------------------------------------\n"
          ]
        }
      ]
    },
    {
      "cell_type": "code",
      "source": [
        "# RESHAPE\n",
        "\n",
        "a = np.arange(20,103,2)\n",
        "nprint(a)\n",
        "\n",
        "# reshape\n",
        "a_2 = a.reshape(6,7)\n",
        "nprint(a_2)"
      ],
      "metadata": {
        "colab": {
          "base_uri": "https://localhost:8080/"
        },
        "id": "aF5Eqzr_76ul",
        "outputId": "b58b8e71-ed9d-4770-ad59-705d3174ad99"
      },
      "execution_count": 164,
      "outputs": [
        {
          "output_type": "stream",
          "name": "stdout",
          "text": [
            "a:\n",
            " [ 20  22  24  26  28  30  32  34  36  38  40  42  44  46  48  50  52  54\n",
            "  56  58  60  62  64  66  68  70  72  74  76  78  80  82  84  86  88  90\n",
            "  92  94  96  98 100 102]\n",
            "--------------------------------------------------------------------------------\n",
            "a_2:\n",
            " [[ 20  22  24  26  28  30  32]\n",
            " [ 34  36  38  40  42  44  46]\n",
            " [ 48  50  52  54  56  58  60]\n",
            " [ 62  64  66  68  70  72  74]\n",
            " [ 76  78  80  82  84  86  88]\n",
            " [ 90  92  94  96  98 100 102]]\n",
            "--------------------------------------------------------------------------------\n"
          ]
        }
      ]
    },
    {
      "cell_type": "code",
      "source": [
        "#ELEMENTWISE OPERATIONS\n",
        "\n",
        "a += 10\n",
        "nprint(a)\n",
        "\n",
        "b *= 10\n",
        "nprint(b)"
      ],
      "metadata": {
        "colab": {
          "base_uri": "https://localhost:8080/"
        },
        "id": "mcuDIKy-s9vY",
        "outputId": "19a2ab3b-7705-47a8-88a0-1b3b6da87dec"
      },
      "execution_count": 152,
      "outputs": [
        {
          "output_type": "stream",
          "name": "stdout",
          "text": [
            "a:\n",
            " [11 12 13]\n",
            "--------------------------------------------------------------------------------\n",
            "b:\n",
            " [[10 20 30]\n",
            " [40 50 60]]\n",
            "--------------------------------------------------------------------------------\n"
          ]
        }
      ]
    },
    {
      "cell_type": "markdown",
      "source": [
        "## Indexing"
      ],
      "metadata": {
        "id": "sK2x3tYj82ef"
      }
    },
    {
      "cell_type": "code",
      "source": [
        "# SINGLE-ITEM INDEXING\n",
        "\n",
        "nprint(b)\n",
        "nprint(b[1][1]) # C-style list-of-list indexing\n",
        "nprint(b[1,1])  # indexing-via-an-array"
      ],
      "metadata": {
        "colab": {
          "base_uri": "https://localhost:8080/"
        },
        "id": "5CQzMYrztHS8",
        "outputId": "e358c182-04e2-4b48-922f-5320f73ee8d3"
      },
      "execution_count": 165,
      "outputs": [
        {
          "output_type": "stream",
          "name": "stdout",
          "text": [
            "b:\n",
            " [[10 20 30]\n",
            " [40 50 60]]\n",
            "--------------------------------------------------------------------------------\n",
            "var:\n",
            " 50\n",
            "--------------------------------------------------------------------------------\n",
            "var:\n",
            " 50\n",
            "--------------------------------------------------------------------------------\n"
          ]
        }
      ]
    },
    {
      "cell_type": "code",
      "source": [
        "# FANCY INDEXING: index with array of arrays\n",
        "# - 1st array: row indices\n",
        "# - 2nd array: col indices\n",
        "# - 3rd array: ...\n",
        "\n",
        "c = np.array(['a','b','c','d','e','f','g','h','i','l'])\n",
        "\n",
        "# recover items at position 1,5,9\n",
        "c_1 = c[[1,5,9]]\n",
        "nprint(c_1)\n",
        "\n",
        "# this fancy indexes in c with the list of even indexes numbers\n",
        "# using list comprehension\n",
        "c_2 = c[[j for j in range(len(c)) if j % 2 == 0]]\n",
        "nprint(c_2)\n",
        "\n",
        "# 2d array of items from 10 to 20 with list comprehension\n",
        "d = np.array([[j for j in range(1,11)],[j for j in range(11,21)]])\n",
        "nprint(d)\n",
        "\n",
        "d_1 = d[[0,1],[3,4]] #takes rows 0,1 and item 3 from row 0 and item 4 from row 4\n",
        "nprint(d_1)\n",
        "\n",
        "d_2 = d[[0,1],[3,]] #the single col index 3 is broacast also to he 2nd row\n",
        "nprint(d_2)\n",
        "\n",
        "# get the FULL cols 3 and 4 of a matrix\n",
        "e = np.arange(20).reshape(5,4)\n",
        "nprint(e)\n",
        "\n",
        "e_1 = e[:,[1,2]]\n",
        "nprint(e_1)"
      ],
      "metadata": {
        "colab": {
          "base_uri": "https://localhost:8080/"
        },
        "id": "EtajBfQhucxV",
        "outputId": "8b34f256-347c-4054-bdb0-a75d53deccc8"
      },
      "execution_count": 154,
      "outputs": [
        {
          "output_type": "stream",
          "name": "stdout",
          "text": [
            "c_1:\n",
            " ['b' 'f' 'l']\n",
            "--------------------------------------------------------------------------------\n",
            "c_2:\n",
            " ['a' 'c' 'e' 'g' 'i']\n",
            "--------------------------------------------------------------------------------\n",
            "d:\n",
            " [[ 1  2  3  4  5  6  7  8  9 10]\n",
            " [11 12 13 14 15 16 17 18 19 20]]\n",
            "--------------------------------------------------------------------------------\n",
            "d_1:\n",
            " [ 4 15]\n",
            "--------------------------------------------------------------------------------\n",
            "d_2:\n",
            " [ 4 14]\n",
            "--------------------------------------------------------------------------------\n",
            "e:\n",
            " [[ 0  1  2  3]\n",
            " [ 4  5  6  7]\n",
            " [ 8  9 10 11]\n",
            " [12 13 14 15]\n",
            " [16 17 18 19]]\n",
            "--------------------------------------------------------------------------------\n",
            "e_1:\n",
            " [[ 1  2]\n",
            " [ 5  6]\n",
            " [ 9 10]\n",
            " [13 14]\n",
            " [17 18]]\n",
            "--------------------------------------------------------------------------------\n"
          ]
        }
      ]
    },
    {
      "cell_type": "code",
      "source": [
        "# BOOLEAN MASKS\n",
        "\n",
        "e = np.array([j for j in range(0,11)])\n",
        "\n",
        "# mask of even indices\n",
        "mask = e % 2 == 0\n",
        "nprint(mask)\n",
        "\n",
        "e_1 = e[mask]\n",
        "nprint(e_1)"
      ],
      "metadata": {
        "colab": {
          "base_uri": "https://localhost:8080/"
        },
        "id": "uh6bSYFPyLh_",
        "outputId": "9619facf-bace-4fd3-d4fd-c4182afc0ea0"
      },
      "execution_count": 155,
      "outputs": [
        {
          "output_type": "stream",
          "name": "stdout",
          "text": [
            "mask:\n",
            " [ True False  True False  True False  True False  True False  True]\n",
            "--------------------------------------------------------------------------------\n",
            "e_1:\n",
            " [ 0  2  4  6  8 10]\n",
            "--------------------------------------------------------------------------------\n"
          ]
        }
      ]
    }
  ]
}